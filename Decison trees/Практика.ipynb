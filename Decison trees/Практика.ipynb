{
 "cells": [
  {
   "cell_type": "markdown",
   "id": "edc29cbc",
   "metadata": {},
   "source": [
    "Основные понятия  по теме дерево решений\n",
    " \n",
    "\n",
    "Entropy and Information gain ﻿\n",
    "Train / test split ﻿\n",
    "K-fold cross-validation ﻿\n",
    "Hyper parameters and Grid search ﻿\n",
    "Дерево решений - алгоритм машинного обучения для регрессии и классификации. Остановимся подробнее на задаче классификатора. В процессе построения дерева выбираются переменные разделение, по которым позволяет нам с большей точностью разделять исследуемые классы. В каждом листе дерева находится одно условие, которое разбивает наш набор данных на два подмножества.\n",
    "\n",
    "Процесс выбора фичей, которые помещаются в лист дерева основывается на расчете Information gain. Могут использоваться и другие критерии.\n",
    "\n",
    "По умолчанию классификатор строит настолько глубокое дерево, насколько позволяет набор данных. Таким образом, классификатор преследует цель безошибочно отнести к нужному классу все объекты в выборке. Такой \"жадный\" алгоритм может приводить к переобучению в результате избыточной глубины дерева.\n",
    "\n",
    "Проверить насколько сильно переобучен классификатор можно обучив его на обучающей выборке затем проверить качество модели на тестовой выборке.\n",
    "Основная цель построения любой модели - получить классификатор с максимальной обобщающей способностью, т.е. такой классификатор, который успешно выделяет общие закономерности и не переобучается на частных закономерностях в конкретной выборке.\n",
    "\n",
    "Для этой цели мы подбираем оптимальный набор параметров классификатора, в случае дерева решений - это может быть глубина дерева. Для выбора оптимального параметра можно построить множество деревьев с разной глубиной и выбрать наилучший результат.\n",
    "\n",
    "В качестве критерия \"наилучшего\" классификатора можно использовать кросс-валидацию. При таком подходе данные в выборке разбиваются на n частей, например на 5 частей, далее классификатор обучается на 4 частях данных и валидируется на оставшейся 5ой части. Затем операция повторяется, чтобы каждая из 5 частей данных оказалась в роли тестового множества.\n",
    "\n"
   ]
  },
  {
   "cell_type": "code",
   "execution_count": 1,
   "id": "acc25958",
   "metadata": {},
   "outputs": [],
   "source": [
    "from sklearn import tree\n",
    "from sklearn.tree import DecisionTreeClassifier\n",
    "\n",
    "import pandas as pd\n",
    "import numpy as np\n",
    "import matplotlib.pyplot as plt\n",
    "import seaborn as sns\n",
    "%matplotlib inline\n",
    "\n",
    "from IPython.display import SVG\n",
    "from  graphviz import Source\n",
    "from IPython.display import display\n",
    "\n",
    "from sklearn.model_selection import train_test_split\n",
    "from sklearn.model_selection import cross_val_score\n",
    "\n",
    "from IPython.display import HTML\n",
    "style = '<style>svg{width:70% !important;height:70% !important;}</style>'\n",
    "\n",
    "HTML(style)\n",
    "\n",
    "\n",
    "sns.set(rc={'figure.figsize':(15,6)})\n",
    "\n",
    "from sklearn.model_selection import GridSearchCV, RandomizedSearchCV\n",
    "from sklearn.metrics import precision_score, recall_score,roc_curve, auc\n"
   ]
  },
  {
   "cell_type": "code",
   "execution_count": 2,
   "id": "1036d546",
   "metadata": {},
   "outputs": [
    {
     "data": {
      "text/html": [
       "<div>\n",
       "<style scoped>\n",
       "    .dataframe tbody tr th:only-of-type {\n",
       "        vertical-align: middle;\n",
       "    }\n",
       "\n",
       "    .dataframe tbody tr th {\n",
       "        vertical-align: top;\n",
       "    }\n",
       "\n",
       "    .dataframe thead th {\n",
       "        text-align: right;\n",
       "    }\n",
       "</style>\n",
       "<table border=\"1\" class=\"dataframe\">\n",
       "  <thead>\n",
       "    <tr style=\"text-align: right;\">\n",
       "      <th></th>\n",
       "      <th>sex</th>\n",
       "      <th>exang</th>\n",
       "      <th>num</th>\n",
       "    </tr>\n",
       "  </thead>\n",
       "  <tbody>\n",
       "    <tr>\n",
       "      <th>0</th>\n",
       "      <td>1</td>\n",
       "      <td>1</td>\n",
       "      <td>1</td>\n",
       "    </tr>\n",
       "    <tr>\n",
       "      <th>1</th>\n",
       "      <td>1</td>\n",
       "      <td>1</td>\n",
       "      <td>1</td>\n",
       "    </tr>\n",
       "    <tr>\n",
       "      <th>2</th>\n",
       "      <td>1</td>\n",
       "      <td>0</td>\n",
       "      <td>1</td>\n",
       "    </tr>\n",
       "    <tr>\n",
       "      <th>3</th>\n",
       "      <td>1</td>\n",
       "      <td>0</td>\n",
       "      <td>0</td>\n",
       "    </tr>\n",
       "    <tr>\n",
       "      <th>4</th>\n",
       "      <td>1</td>\n",
       "      <td>0</td>\n",
       "      <td>1</td>\n",
       "    </tr>\n",
       "  </tbody>\n",
       "</table>\n",
       "</div>"
      ],
      "text/plain": [
       "   sex  exang  num\n",
       "0    1      1    1\n",
       "1    1      1    1\n",
       "2    1      0    1\n",
       "3    1      0    0\n",
       "4    1      0    1"
      ]
     },
     "execution_count": 2,
     "metadata": {},
     "output_type": "execute_result"
    }
   ],
   "source": [
    "tree1=pd.read_csv('train_data_tree.csv')\n",
    "tree1.head()"
   ]
  },
  {
   "cell_type": "code",
   "execution_count": 3,
   "id": "ee3d4730",
   "metadata": {},
   "outputs": [],
   "source": [
    "y=tree1.num\n",
    "X=tree1[['sex', 'exang']]"
   ]
  },
  {
   "cell_type": "code",
   "execution_count": 4,
   "id": "175b73ee",
   "metadata": {},
   "outputs": [],
   "source": [
    "clf=DecisionTreeClassifier(criterion='entropy')\n",
    "#X_train, X_test, y_train, y_test = train_test_split(X, y, test_size=0.33, random_state=42)"
   ]
  },
  {
   "cell_type": "code",
   "execution_count": 5,
   "id": "3ea3494d",
   "metadata": {},
   "outputs": [],
   "source": [
    "#tree1.isnull().sum()"
   ]
  },
  {
   "cell_type": "code",
   "execution_count": 6,
   "id": "fd9ac993",
   "metadata": {},
   "outputs": [
    {
     "data": {
      "text/plain": [
       "DecisionTreeClassifier(criterion='entropy')"
      ]
     },
     "execution_count": 6,
     "metadata": {},
     "output_type": "execute_result"
    }
   ],
   "source": [
    "clf.fit(X, y)"
   ]
  },
  {
   "cell_type": "code",
   "execution_count": 7,
   "id": "a16b19a7",
   "metadata": {},
   "outputs": [
    {
     "data": {
      "image/svg+xml": [
       "<svg xmlns=\"http://www.w3.org/2000/svg\" xmlns:xlink=\"http://www.w3.org/1999/xlink\" width=\"487pt\" height=\"314pt\" viewBox=\"0.00 0.00 487.00 314.00\">\n",
       "<g id=\"graph0\" class=\"graph\" transform=\"scale(1 1) rotate(0) translate(4 310)\">\n",
       "<title>Tree</title>\n",
       "<polygon fill=\"white\" stroke=\"transparent\" points=\"-4,4 -4,-310 483,-310 483,4 -4,4\"/>\n",
       "<!-- 0 -->\n",
       "<g id=\"node1\" class=\"node\">\n",
       "<title>0</title>\n",
       "<polygon fill=\"#fbede3\" stroke=\"black\" points=\"298,-306 180,-306 180,-223 298,-223 298,-306\"/>\n",
       "<text text-anchor=\"middle\" x=\"239\" y=\"-290.8\" font-family=\"Times New Roman,serif\" font-size=\"14.00\">exang &lt;= 0.5</text>\n",
       "<text text-anchor=\"middle\" x=\"239\" y=\"-275.8\" font-family=\"Times New Roman,serif\" font-size=\"14.00\">entropy = 0.996</text>\n",
       "<text text-anchor=\"middle\" x=\"239\" y=\"-260.8\" font-family=\"Times New Roman,serif\" font-size=\"14.00\">samples = 238</text>\n",
       "<text text-anchor=\"middle\" x=\"239\" y=\"-245.8\" font-family=\"Times New Roman,serif\" font-size=\"14.00\">value = [128, 110]</text>\n",
       "<text text-anchor=\"middle\" x=\"239\" y=\"-230.8\" font-family=\"Times New Roman,serif\" font-size=\"14.00\">class = y[0]</text>\n",
       "</g>\n",
       "<!-- 1 -->\n",
       "<g id=\"node2\" class=\"node\">\n",
       "<title>1</title>\n",
       "<polygon fill=\"#f1bc96\" stroke=\"black\" points=\"231.5,-187 120.5,-187 120.5,-104 231.5,-104 231.5,-187\"/>\n",
       "<text text-anchor=\"middle\" x=\"176\" y=\"-171.8\" font-family=\"Times New Roman,serif\" font-size=\"14.00\">sex &lt;= 0.5</text>\n",
       "<text text-anchor=\"middle\" x=\"176\" y=\"-156.8\" font-family=\"Times New Roman,serif\" font-size=\"14.00\">entropy = 0.903</text>\n",
       "<text text-anchor=\"middle\" x=\"176\" y=\"-141.8\" font-family=\"Times New Roman,serif\" font-size=\"14.00\">samples = 157</text>\n",
       "<text text-anchor=\"middle\" x=\"176\" y=\"-126.8\" font-family=\"Times New Roman,serif\" font-size=\"14.00\">value = [107, 50]</text>\n",
       "<text text-anchor=\"middle\" x=\"176\" y=\"-111.8\" font-family=\"Times New Roman,serif\" font-size=\"14.00\">class = y[0]</text>\n",
       "</g>\n",
       "<!-- 0&#45;&gt;1 -->\n",
       "<g id=\"edge1\" class=\"edge\">\n",
       "<title>0-&gt;1</title>\n",
       "<path fill=\"none\" stroke=\"black\" d=\"M217.14,-222.91C212.45,-214.2 207.44,-204.9 202.6,-195.89\"/>\n",
       "<polygon fill=\"black\" stroke=\"black\" points=\"205.64,-194.17 197.82,-187.02 199.48,-197.48 205.64,-194.17\"/>\n",
       "<text text-anchor=\"middle\" x=\"190.64\" y=\"-207.27\" font-family=\"Times New Roman,serif\" font-size=\"14.00\">True</text>\n",
       "</g>\n",
       "<!-- 4 -->\n",
       "<g id=\"node5\" class=\"node\">\n",
       "<title>4</title>\n",
       "<polygon fill=\"#7ebfee\" stroke=\"black\" points=\"356,-187 250,-187 250,-104 356,-104 356,-187\"/>\n",
       "<text text-anchor=\"middle\" x=\"303\" y=\"-171.8\" font-family=\"Times New Roman,serif\" font-size=\"14.00\">sex &lt;= 0.5</text>\n",
       "<text text-anchor=\"middle\" x=\"303\" y=\"-156.8\" font-family=\"Times New Roman,serif\" font-size=\"14.00\">entropy = 0.826</text>\n",
       "<text text-anchor=\"middle\" x=\"303\" y=\"-141.8\" font-family=\"Times New Roman,serif\" font-size=\"14.00\">samples = 81</text>\n",
       "<text text-anchor=\"middle\" x=\"303\" y=\"-126.8\" font-family=\"Times New Roman,serif\" font-size=\"14.00\">value = [21, 60]</text>\n",
       "<text text-anchor=\"middle\" x=\"303\" y=\"-111.8\" font-family=\"Times New Roman,serif\" font-size=\"14.00\">class = y[1]</text>\n",
       "</g>\n",
       "<!-- 0&#45;&gt;4 -->\n",
       "<g id=\"edge4\" class=\"edge\">\n",
       "<title>0-&gt;4</title>\n",
       "<path fill=\"none\" stroke=\"black\" d=\"M261.2,-222.91C265.97,-214.2 271.06,-204.9 275.98,-195.89\"/>\n",
       "<polygon fill=\"black\" stroke=\"black\" points=\"279.11,-197.47 280.83,-187.02 272.97,-194.11 279.11,-197.47\"/>\n",
       "<text text-anchor=\"middle\" x=\"287.86\" y=\"-207.31\" font-family=\"Times New Roman,serif\" font-size=\"14.00\">False</text>\n",
       "</g>\n",
       "<!-- 2 -->\n",
       "<g id=\"node3\" class=\"node\">\n",
       "<title>2</title>\n",
       "<polygon fill=\"#ea975c\" stroke=\"black\" points=\"106,-68 0,-68 0,0 106,0 106,-68\"/>\n",
       "<text text-anchor=\"middle\" x=\"53\" y=\"-52.8\" font-family=\"Times New Roman,serif\" font-size=\"14.00\">entropy = 0.612</text>\n",
       "<text text-anchor=\"middle\" x=\"53\" y=\"-37.8\" font-family=\"Times New Roman,serif\" font-size=\"14.00\">samples = 53</text>\n",
       "<text text-anchor=\"middle\" x=\"53\" y=\"-22.8\" font-family=\"Times New Roman,serif\" font-size=\"14.00\">value = [45, 8]</text>\n",
       "<text text-anchor=\"middle\" x=\"53\" y=\"-7.8\" font-family=\"Times New Roman,serif\" font-size=\"14.00\">class = y[0]</text>\n",
       "</g>\n",
       "<!-- 1&#45;&gt;2 -->\n",
       "<g id=\"edge2\" class=\"edge\">\n",
       "<title>1-&gt;2</title>\n",
       "<path fill=\"none\" stroke=\"black\" d=\"M130.2,-103.73C119.65,-94.33 108.43,-84.35 97.92,-74.99\"/>\n",
       "<polygon fill=\"black\" stroke=\"black\" points=\"100.2,-72.33 90.41,-68.3 95.55,-77.56 100.2,-72.33\"/>\n",
       "</g>\n",
       "<!-- 3 -->\n",
       "<g id=\"node4\" class=\"node\">\n",
       "<title>3</title>\n",
       "<polygon fill=\"#f7d6bf\" stroke=\"black\" points=\"230,-68 124,-68 124,0 230,0 230,-68\"/>\n",
       "<text text-anchor=\"middle\" x=\"177\" y=\"-52.8\" font-family=\"Times New Roman,serif\" font-size=\"14.00\">entropy = 0.973</text>\n",
       "<text text-anchor=\"middle\" x=\"177\" y=\"-37.8\" font-family=\"Times New Roman,serif\" font-size=\"14.00\">samples = 104</text>\n",
       "<text text-anchor=\"middle\" x=\"177\" y=\"-22.8\" font-family=\"Times New Roman,serif\" font-size=\"14.00\">value = [62, 42]</text>\n",
       "<text text-anchor=\"middle\" x=\"177\" y=\"-7.8\" font-family=\"Times New Roman,serif\" font-size=\"14.00\">class = y[0]</text>\n",
       "</g>\n",
       "<!-- 1&#45;&gt;3 -->\n",
       "<g id=\"edge3\" class=\"edge\">\n",
       "<title>1-&gt;3</title>\n",
       "<path fill=\"none\" stroke=\"black\" d=\"M176.37,-103.73C176.45,-95.52 176.53,-86.86 176.6,-78.56\"/>\n",
       "<polygon fill=\"black\" stroke=\"black\" points=\"180.1,-78.33 176.7,-68.3 173.1,-78.27 180.1,-78.33\"/>\n",
       "</g>\n",
       "<!-- 5 -->\n",
       "<g id=\"node6\" class=\"node\">\n",
       "<title>5</title>\n",
       "<polygon fill=\"#b0d8f5\" stroke=\"black\" points=\"355,-68 249,-68 249,0 355,0 355,-68\"/>\n",
       "<text text-anchor=\"middle\" x=\"302\" y=\"-52.8\" font-family=\"Times New Roman,serif\" font-size=\"14.00\">entropy = 0.954</text>\n",
       "<text text-anchor=\"middle\" x=\"302\" y=\"-37.8\" font-family=\"Times New Roman,serif\" font-size=\"14.00\">samples = 16</text>\n",
       "<text text-anchor=\"middle\" x=\"302\" y=\"-22.8\" font-family=\"Times New Roman,serif\" font-size=\"14.00\">value = [6, 10]</text>\n",
       "<text text-anchor=\"middle\" x=\"302\" y=\"-7.8\" font-family=\"Times New Roman,serif\" font-size=\"14.00\">class = y[1]</text>\n",
       "</g>\n",
       "<!-- 4&#45;&gt;5 -->\n",
       "<g id=\"edge5\" class=\"edge\">\n",
       "<title>4-&gt;5</title>\n",
       "<path fill=\"none\" stroke=\"black\" d=\"M302.63,-103.73C302.55,-95.52 302.47,-86.86 302.4,-78.56\"/>\n",
       "<polygon fill=\"black\" stroke=\"black\" points=\"305.9,-78.27 302.3,-68.3 298.9,-78.33 305.9,-78.27\"/>\n",
       "</g>\n",
       "<!-- 6 -->\n",
       "<g id=\"node7\" class=\"node\">\n",
       "<title>6</title>\n",
       "<polygon fill=\"#74baed\" stroke=\"black\" points=\"479,-68 373,-68 373,0 479,0 479,-68\"/>\n",
       "<text text-anchor=\"middle\" x=\"426\" y=\"-52.8\" font-family=\"Times New Roman,serif\" font-size=\"14.00\">entropy = 0.779</text>\n",
       "<text text-anchor=\"middle\" x=\"426\" y=\"-37.8\" font-family=\"Times New Roman,serif\" font-size=\"14.00\">samples = 65</text>\n",
       "<text text-anchor=\"middle\" x=\"426\" y=\"-22.8\" font-family=\"Times New Roman,serif\" font-size=\"14.00\">value = [15, 50]</text>\n",
       "<text text-anchor=\"middle\" x=\"426\" y=\"-7.8\" font-family=\"Times New Roman,serif\" font-size=\"14.00\">class = y[1]</text>\n",
       "</g>\n",
       "<!-- 4&#45;&gt;6 -->\n",
       "<g id=\"edge6\" class=\"edge\">\n",
       "<title>4-&gt;6</title>\n",
       "<path fill=\"none\" stroke=\"black\" d=\"M348.8,-103.73C359.35,-94.33 370.57,-84.35 381.08,-74.99\"/>\n",
       "<polygon fill=\"black\" stroke=\"black\" points=\"383.45,-77.56 388.59,-68.3 378.8,-72.33 383.45,-77.56\"/>\n",
       "</g>\n",
       "</g>\n",
       "</svg>"
      ],
      "text/plain": [
       "<IPython.core.display.SVG object>"
      ]
     },
     "metadata": {},
     "output_type": "display_data"
    }
   ],
   "source": [
    "graph = Source(tree.export_graphviz(clf\n",
    "                                    , out_file=None\n",
    "                                    , feature_names=list(X)\n",
    "                                    , class_names=True\n",
    "                                    , filled=True))\n",
    "\n",
    "display(SVG(graph.pipe(format='svg')))"
   ]
  },
  {
   "cell_type": "code",
   "execution_count": 8,
   "id": "5f811503",
   "metadata": {},
   "outputs": [
    {
     "data": {
      "text/plain": [
       "0.11920588235294122"
      ]
     },
     "execution_count": 8,
     "metadata": {},
     "output_type": "execute_result"
    }
   ],
   "source": [
    "information_gain=0.996 - (157/238)*0.903 - (81/238)*0.826 \n",
    "information_gain"
   ]
  },
  {
   "cell_type": "code",
   "execution_count": 9,
   "id": "4078b406",
   "metadata": {},
   "outputs": [],
   "source": [
    "from sklearn.datasets import load_iris\n",
    "\n",
    "iris = load_iris()\n",
    "X = iris.data\n",
    "y = iris.target\n"
   ]
  },
  {
   "cell_type": "code",
   "execution_count": 10,
   "id": "37dedae5",
   "metadata": {},
   "outputs": [],
   "source": [
    "X_train, X_test, y_train, y_test = train_test_split(X, y, test_size=0.25, random_state=42)\n",
    "dt =DecisionTreeClassifier()\n",
    "dt.fit(X_train, y_train)\n",
    "predicted=dt.predict(X_test)"
   ]
  },
  {
   "cell_type": "code",
   "execution_count": 11,
   "id": "c78c6931",
   "metadata": {},
   "outputs": [
    {
     "data": {
      "text/plain": [
       "array([1, 0, 2, 1, 1, 0, 1, 2, 1, 1, 2, 0, 0, 0, 0, 1, 2, 1, 1, 2, 0, 2,\n",
       "       0, 2, 2, 2, 2, 2, 0, 0, 0, 0, 1, 0, 0, 2, 1, 0])"
      ]
     },
     "execution_count": 11,
     "metadata": {},
     "output_type": "execute_result"
    }
   ],
   "source": [
    "predicted"
   ]
  },
  {
   "cell_type": "code",
   "execution_count": 12,
   "id": "12bde18d",
   "metadata": {},
   "outputs": [],
   "source": [
    "# Здесь выполняется другое задание, где берутся не X_train, y_train, а Х и у"
   ]
  },
  {
   "cell_type": "code",
   "execution_count": 13,
   "id": "9edb6ea4",
   "metadata": {},
   "outputs": [],
   "source": [
    "parametrs={\n",
    "    'min_samples_split':range(2,10)\n",
    "    , 'max_depth': range(1, 10)\n",
    "    ,'min_samples_leaf':range(1,10)\n",
    "          }\n",
    "\n",
    "#dt=tree.DecisionTreeClassifier()\n",
    "dt=DecisionTreeClassifier()"
   ]
  },
  {
   "cell_type": "code",
   "execution_count": 14,
   "id": "1d0acff6",
   "metadata": {},
   "outputs": [],
   "source": [
    "search=GridSearchCV(dt, parametrs, cv=5\n",
    "                                #, n_jobs=-1\n",
    "                               )"
   ]
  },
  {
   "cell_type": "code",
   "execution_count": 15,
   "id": "8cc83a9d",
   "metadata": {},
   "outputs": [
    {
     "data": {
      "text/plain": [
       "GridSearchCV(cv=5, estimator=DecisionTreeClassifier(),\n",
       "             param_grid={'max_depth': range(1, 10),\n",
       "                         'min_samples_leaf': range(1, 10),\n",
       "                         'min_samples_split': range(2, 10)})"
      ]
     },
     "execution_count": 15,
     "metadata": {},
     "output_type": "execute_result"
    }
   ],
   "source": [
    "search.fit(X , y)"
   ]
  },
  {
   "cell_type": "code",
   "execution_count": 16,
   "id": "c451438a",
   "metadata": {},
   "outputs": [
    {
     "data": {
      "text/plain": [
       "{'max_depth': 3, 'min_samples_leaf': 1, 'min_samples_split': 3}"
      ]
     },
     "execution_count": 16,
     "metadata": {},
     "output_type": "execute_result"
    }
   ],
   "source": [
    "search.best_params_"
   ]
  },
  {
   "cell_type": "code",
   "execution_count": 17,
   "id": "a9e6bc52",
   "metadata": {},
   "outputs": [],
   "source": [
    "best_tree =search.best_estimator_"
   ]
  },
  {
   "cell_type": "code",
   "execution_count": 19,
   "id": "2ed0c89d",
   "metadata": {},
   "outputs": [],
   "source": [
    "### RandomizedSearchCV"
   ]
  },
  {
   "cell_type": "code",
   "execution_count": null,
   "id": "b8f51c5f",
   "metadata": {},
   "outputs": [],
   "source": [
    "parametrs={\n",
    "    'min_samples_split':range(2,10)\n",
    "    , 'max_depth': range(1, 10)\n",
    "    ,'min_samples_leaf':range(1,10)\n",
    "          }\n",
    "\n",
    "#dt=tree.DecisionTreeClassifier()\n",
    "dt=DecisionTreeClassifier()\n",
    "\n",
    "search=RandomizedSearchCV(dt, parametrs, cv=5\n",
    "                                #, n_jobs=-1\n",
    "                               )\n",
    "\n",
    "search.fit(X , y)\n",
    "\n",
    "best_tree =search.best_estimator_"
   ]
  },
  {
   "cell_type": "markdown",
   "id": "e4519b87",
   "metadata": {},
   "source": [
    "Задание без данных. \n",
    "\n",
    "\n",
    "Воспользуемся изученными приёмами и попредсказываем!\n",
    "\n",
    "Даны 2 датасэта, к которым вы можете обращаться:\n",
    "\n",
    "    train - размеченный с известными правильным ответами (хранятся в колонке y)\n",
    "    test - набор, где нужно предсказать их\n",
    "Найдите дерево с наиболее подходящими параметрами с помощью GridSearchCV и предскажите с его помощью ответы ко 2-ому сэту! Границы параметров как раньше:\n",
    "\n",
    "максимальная глубина - от 1 до 10 уровней\n",
    "минимальное число проб для разделения - от 2 до 10\n",
    "минимальное число проб в листе - от 1 до 10\n",
    "Названия переменных тоже:лучшее дерево - best_tree, GridSearchCV - search, а предсказания - predictions\n",
    "\n"
   ]
  },
  {
   "cell_type": "code",
   "execution_count": 20,
   "id": "c6615a5f",
   "metadata": {},
   "outputs": [
    {
     "data": {
      "text/plain": [
       "\"X = train.drop('y', 1)\\ny = train['y']\\nX_test=pd.DataFrame(test)\\n\\nparametrs={\\n    'min_samples_split':range(2,10)\\n    , 'max_depth': range(1, 10)\\n    ,'min_samples_leaf':range(1,10)\\n          }\\n\\n#dt=tree.DecisionTreeClassifier()\\ndt=DecisionTreeClassifier()\\n\\nsearch=GridSearchCV(dt, parametrs, cv=5\\n                                #, n_jobs=-1\\n                               )\\n\\nsearch.fit(X , y)\\n\\nbest_tree =search.best_estimator_\\n\\n\\npredictions=best_tree.predict(X_test)\""
      ]
     },
     "execution_count": 20,
     "metadata": {},
     "output_type": "execute_result"
    }
   ],
   "source": [
    "'''X = train.drop('y', 1)\n",
    "y = train['y']\n",
    "X_test=pd.DataFrame(test)\n",
    "\n",
    "parametrs={\n",
    "    'min_samples_split':range(2,10)\n",
    "    , 'max_depth': range(1, 10)\n",
    "    ,'min_samples_leaf':range(1,10)\n",
    "          }\n",
    "\n",
    "#dt=tree.DecisionTreeClassifier()\n",
    "dt=DecisionTreeClassifier()\n",
    "\n",
    "search=GridSearchCV(dt, parametrs, cv=5\n",
    "                                #, n_jobs=-1\n",
    "                               )\n",
    "\n",
    "search.fit(X , y)\n",
    "\n",
    "best_tree =search.best_estimator_\n",
    "\n",
    "\n",
    "predictions=best_tree.predict(X_test)'''"
   ]
  },
  {
   "cell_type": "markdown",
   "id": "1347ab78",
   "metadata": {},
   "source": [
    "### Conflusion matrix\n",
    "\n",
    "При классификации модель может допускать ошибки, присваивая наблюдению неверный класс. Существуют различные метрики оценки качества предсказаний, которые базируются на 4-ёх параметрах - true positive, false positive, false negative и true negative, соответствующих тому какой класс был присвоен наблюдениям каждого из классов. Матрицу из 4-ёх (в случае бинарной классификации) этих параметров называют confusion matrix.\n",
    "\n",
    "В sklearn можно её удобно получить с помощью функции confusion_matrix. Вам даны 2 эррея с истинными классами наблюдений и предсказанными - y и predictions. Получите по ним confusion matrix и поместите её в переменную conf_matrix.\n",
    "\n"
   ]
  },
  {
   "cell_type": "code",
   "execution_count": 22,
   "id": "35f6c1ad",
   "metadata": {},
   "outputs": [
    {
     "data": {
      "text/plain": [
       "'import pandas as pd\\nfrom sklearn.metrics import confusion_matrix\\nconf_matrix=confusion_matrix(y, predictions)'"
      ]
     },
     "execution_count": 22,
     "metadata": {},
     "output_type": "execute_result"
    }
   ],
   "source": [
    "'''import pandas as pd\n",
    "from sklearn.metrics import confusion_matrix\n",
    "conf_matrix=confusion_matrix(y, predictions)'''\n"
   ]
  },
  {
   "cell_type": "code",
   "execution_count": null,
   "id": "6821bfac",
   "metadata": {},
   "outputs": [],
   "source": []
  }
 ],
 "metadata": {
  "kernelspec": {
   "display_name": "Python 3",
   "language": "python",
   "name": "python3"
  },
  "language_info": {
   "codemirror_mode": {
    "name": "ipython",
    "version": 3
   },
   "file_extension": ".py",
   "mimetype": "text/x-python",
   "name": "python",
   "nbconvert_exporter": "python",
   "pygments_lexer": "ipython3",
   "version": "3.8.10"
  }
 },
 "nbformat": 4,
 "nbformat_minor": 5
}
