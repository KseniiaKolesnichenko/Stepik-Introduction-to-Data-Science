{
 "cells": [
  {
   "cell_type": "code",
   "execution_count": null,
   "id": "53c6f7ab",
   "metadata": {},
   "outputs": [],
   "source": [
    "from sklearn import metrics\n",
    "\n",
    "def all_metrics(model, X_test, y_test):\n",
    "    observations = y_test\n",
    "    prediction = model.predict(X_test)\n",
    "\n",
    "    true_positive = np.logical_and(prediction, observations)\n",
    "    false_positive = np.logical_and(prediction, np.logical_not(observations))\n",
    "    true_negative = np.logical_and(np.logical_not(prediction), np.logical_not(observations))\n",
    "    false_negative = np.logical_and(np.logical_not(prediction), observations)\n",
    "\n",
    "    tp, fp, tn, fn = (x.sum() for x in (true_positive, false_positive, true_negative, false_negative))\n",
    "    accuracy = (tp + tn) / (tp + fp + fn + tn)\n",
    "    precision = tp / (tp + fp)\n",
    "    recall = tp / (tp + fn)\n",
    "    f1_score = 2 * (recall * precision) / (recall + precision)\n",
    "\n",
    "    print('True Positive: ', tp)\n",
    "    print('False Positive: ', fp)\n",
    "    print('True Negative: ', tn)\n",
    "    print('False Negative: ', fn)\n",
    "    print('Accuracy: ', accuracy)\n",
    "    print('Precision: ', precision)\n",
    "    print('Recall: ', recall)\n",
    "    print('F1 score: ', f1_score)\n",
    "    \n",
    "    metrics.plot_roc_curve(model, X_test, y_test)\n",
    "    metrics.plot_precision_recall_curve(model, X_test, y_test)\n",
    "    metrics.plot_confusion_matrix(model, X_test, y_test)"
   ]
  }
 ],
 "metadata": {
  "kernelspec": {
   "display_name": "Python 3",
   "language": "python",
   "name": "python3"
  },
  "language_info": {
   "codemirror_mode": {
    "name": "ipython",
    "version": 3
   },
   "file_extension": ".py",
   "mimetype": "text/x-python",
   "name": "python",
   "nbconvert_exporter": "python",
   "pygments_lexer": "ipython3",
   "version": "3.8.10"
  }
 },
 "nbformat": 4,
 "nbformat_minor": 5
}
